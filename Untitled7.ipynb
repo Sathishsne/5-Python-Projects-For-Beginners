{
  "nbformat": 4,
  "nbformat_minor": 0,
  "metadata": {
    "colab": {
      "provenance": [],
      "authorship_tag": "ABX9TyO1p25Ft2b6vS5cH00UsywK",
      "include_colab_link": true
    },
    "kernelspec": {
      "name": "python3",
      "display_name": "Python 3"
    },
    "language_info": {
      "name": "python"
    }
  },
  "cells": [
    {
      "cell_type": "markdown",
      "metadata": {
        "id": "view-in-github",
        "colab_type": "text"
      },
      "source": [
        "<a href=\"https://colab.research.google.com/github/Sathishsne/5-Python-Projects-For-Beginners/blob/main/Untitled7.ipynb\" target=\"_parent\"><img src=\"https://colab.research.google.com/assets/colab-badge.svg\" alt=\"Open In Colab\"/></a>"
      ]
    },
    {
      "cell_type": "code",
      "execution_count": 10,
      "metadata": {
        "id": "avtG-g9sJC7U"
      },
      "outputs": [],
      "source": [
        " #CLASS AND OBJECTS\n",
        "class rectangle :\n",
        "\n",
        "  def __init__(self):\n",
        "\n",
        "    self.length = 10\n",
        "    self.breadth = 5"
      ]
    },
    {
      "cell_type": "code",
      "execution_count": 11,
      "metadata": {
        "colab": {
          "base_uri": "https://localhost:8080/"
        },
        "outputId": "8ca8db04-b69c-41c0-b958-4989a0245eac",
        "id": "Y1YeFgGQYl2-"
      },
      "outputs": [
        {
          "output_type": "stream",
          "name": "stdout",
          "text": [
            "lenght = 10 \n",
            "breadth = 5\n"
          ]
        }
      ],
      "source": [
        "rect = rectangle()\n",
        "print(\"lenght =\",rect.length, \"\\nbreadth =\",rect.breadth)"
      ]
    },
    {
      "cell_type": "code",
      "source": [
        " # parametrised constructor\n",
        "class Rectangle :\n",
        "  def __init__(self,length,breadth):\n",
        "\n",
        "    self.length = length\n",
        "    self.breadth = breadth\n",
        "rect = Rectangle(10,5)\n",
        "print(\"lenght =\", rect.length, \"\\nbreadth \", rect.breadth)"
      ],
      "metadata": {
        "colab": {
          "base_uri": "https://localhost:8080/"
        },
        "id": "FRN8Md28VsJv",
        "outputId": "fb7deeb2-650f-4e60-990a-b61f802adc2c"
      },
      "execution_count": 8,
      "outputs": [
        {
          "output_type": "stream",
          "name": "stdout",
          "text": [
            "lenght = 10 \n",
            "breadth  5\n"
          ]
        }
      ]
    },
    {
      "cell_type": "code",
      "source": [
        "#class variable and instance variable\n",
        "class circle"
      ],
      "metadata": {
        "id": "oEtTo_WXVsYW"
      },
      "execution_count": null,
      "outputs": []
    },
    {
      "cell_type": "code",
      "source": [],
      "metadata": {
        "id": "v_7Zb5_AVsd5"
      },
      "execution_count": null,
      "outputs": []
    },
    {
      "cell_type": "code",
      "source": [],
      "metadata": {
        "id": "cIhE7PMyVsjA"
      },
      "execution_count": null,
      "outputs": []
    },
    {
      "cell_type": "code",
      "source": [],
      "metadata": {
        "id": "3hQ-ulhjVspS"
      },
      "execution_count": null,
      "outputs": []
    },
    {
      "cell_type": "code",
      "source": [],
      "metadata": {
        "id": "9GB3Pj-gVssS"
      },
      "execution_count": null,
      "outputs": []
    },
    {
      "cell_type": "code",
      "source": [],
      "metadata": {
        "id": "xz6F89F3VsvH"
      },
      "execution_count": null,
      "outputs": []
    },
    {
      "cell_type": "code",
      "source": [],
      "metadata": {
        "id": "3tozU3x_Vsxy"
      },
      "execution_count": null,
      "outputs": []
    },
    {
      "cell_type": "code",
      "source": [],
      "metadata": {
        "id": "vKXwf-CoVs1q"
      },
      "execution_count": null,
      "outputs": []
    },
    {
      "cell_type": "code",
      "source": [],
      "metadata": {
        "id": "lty3BnADVs4g"
      },
      "execution_count": null,
      "outputs": []
    },
    {
      "cell_type": "code",
      "source": [],
      "metadata": {
        "id": "kdt1oF9JVs7-"
      },
      "execution_count": null,
      "outputs": []
    }
  ]
}